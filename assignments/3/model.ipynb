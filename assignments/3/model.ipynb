{
 "cells": [
  {
   "cell_type": "markdown",
   "metadata": {},
   "source": [
    "# JUPYTER NOTEBOOK TIPS\n",
    "\n",
    "Each rectangular box is called a cell. \n",
    "* ctrl+ENTER evaluates the current cell; if it contains Python code, it runs the code, if it contains Markdown, it returns rendered text.\n",
    "* alt+ENTER evaluates the current cell and adds a new cell below it.\n",
    "* If you click to the left of a cell, you'll notice the frame changes color to blue. You can erase a cell by hitting 'dd' (that's two \"d\"s in a row) when the frame is blue."
   ]
  },
  {
   "cell_type": "markdown",
   "metadata": {},
   "source": [
    "# Supervised Learning Model Skeleton\n",
    "\n",
    "We'll use this skeleton for implementing different supervised learning algorithms."
   ]
  },
  {
   "cell_type": "code",
   "execution_count": 3,
   "metadata": {},
   "outputs": [],
   "source": [
    "class Model:\n",
    "        \n",
    "    def fit(self):\n",
    "        \n",
    "        raise NotImplementedError\n",
    "    \n",
    "    def predict(self, test_points):\n",
    "        raise NotImplementedError"
   ]
  },
  {
   "cell_type": "markdown",
   "metadata": {},
   "source": [
    "## General supervised learning performance related functions "
   ]
  },
  {
   "cell_type": "markdown",
   "metadata": {},
   "source": [
    "\"conf_matrix\" function that takes as input an array of true labels (*true*) and an array of predicted labels (*pred*)."
   ]
  },
  {
   "cell_type": "code",
   "execution_count": 4,
   "metadata": {},
   "outputs": [],
   "source": [
    "def conf_matrix(true, pred, n_classes):\n",
    "    '''\n",
    "    Args:    \n",
    "        true:  ndarray\n",
    "            nx1 array of true labels for test set\n",
    "        pred: ndarray \n",
    "            nx1 array of predicted labels for test set\n",
    "        n_classes: int\n",
    "    Returns:\n",
    "        result: ndarray\n",
    "            n_classes x n_classes confusion matrix\n",
    "    '''\n",
    "    n_classes = true.shape[1]\n",
    "    result = np.zeros(shape=(n_classes,n_classes))\n",
    "    \n",
    "    classes = np.arange(0,n_classes,1)\n",
    "    for t,p in zip(true,pred):\n",
    "        for i in range(n_classes):\n",
    "            for j in range(n_classes):\n",
    "                if(np.argmax(t) == classes[i] and np.argmax(p) == classes[j]):\n",
    "                    result[i][j] = result[i][j] + 1\n",
    "    \n",
    "    # returns the confusion matrix as numpy.ndarray\n",
    "    return result\n",
    "\n",
    "def kfold(size, k):\n",
    "\n",
    "    '''\n",
    "    Args:\n",
    "        size: int\n",
    "            number of examples in the dataset that you want to split into k\n",
    "        k: int \n",
    "            Number of desired splits in data.(Assume test set is already separated.)\n",
    "        Returns:\n",
    "        fold_dict: dict\n",
    "            A dictionary with integer keys corresponding to folds. Values are (training_indices, val_indices).\n",
    "        \n",
    "        val_indices: ndarray\n",
    "            1/k of training indices randomly chosen and separates them as validation partition.\n",
    "        train_indices: ndarray\n",
    "            Remaining 1-(1/k) of the indices.\n",
    "            \n",
    "            e.g. fold_dict = {0: (train_0_indices, val_0_indices), \n",
    "            1: (train_1_indices, val_1_indices), 2: (train_2_indices, val_2_indices)} for k = 3\n",
    "    '''\n",
    "    fold_dict = {}\n",
    "    \n",
    "    v = (size/float(k))/size\n",
    "    t = 1 - v\n",
    "    \n",
    "    s = np.random.permutation(size)\n",
    "    val = s[:int(np.ceil(size*(v)))]\n",
    "    train = s[int(np.ceil(size*(v))):]\n",
    "    v_size = len(val)\n",
    "    t_size = len(train)\n",
    "\n",
    "    ind = 1.0/float(k)\n",
    "    ranges = np.append(0.0,np.arange(ind, 1.0, ind))\n",
    "    ranges = np.around(np.append(ranges,1.0),4)\n",
    "    for i in range(k):\n",
    "        val_indices = val[int(np.ceil(v_size*(ranges[i]))):int(np.ceil(v_size*(ranges[i+1])))]\n",
    "        train_indices = train[int(np.ceil(t_size*(ranges[i]))):int(np.ceil(t_size*(ranges[i+1])))]\n",
    "        new_dict = {i : (train_indices,val_indices)}\n",
    "        fold_dict.update(new_dict)\n",
    "        \n",
    "    return fold_dict\n",
    "\n",
    "def mse(y_hat, y_true):\n",
    "    '''\n",
    "    Args:\n",
    "        y_hat: ndarray \n",
    "            1D array containing data with `float` type. Values predicted by our method\n",
    "        y_true: ndarray\n",
    "            1D array containing data with `float` type. True y values\n",
    "    Returns:\n",
    "        cost: ndarray\n",
    "            1D array containing mean squared error between y_pred and y_true.\n",
    "        \n",
    "    '''\n",
    "    cost = np.square(y_true - y_hat).mean()\n",
    "\n",
    "    return cost\n",
    "\n",
    "def regularization(weights, method):\n",
    "    '''\n",
    "    Args:\n",
    "        weights: ndarray\n",
    "            1D array with `float` entries\n",
    "        method: str\n",
    "    Returns:\n",
    "        value: float\n",
    "            A single value. Regularization term that will be used in cost function in fit.\n",
    "    '''\n",
    "    if method == \"l1\":\n",
    "        value = np.sum(np.linalg.norm(weights)**1)\n",
    "    elif method == \"l2\":\n",
    "        value = np.sum(weights*weights)\n",
    "    else:\n",
    "        print(\"Reuglarizer method \"+regularizer+\" is invalid!\")\n",
    "        raise NotImplementedError\n",
    "    return value\n",
    "\n",
    "def one_hot(data):\n",
    "    data_final = np.zeros((data.shape[0],10))\n",
    "    data_final[np.arange(data.shape[0]),data.astype(int)]=1\n",
    "    return data_final\n",
    "\n",
    "def sigmoid(z):\n",
    "    return 1/(1+np.exp(-z))\n",
    "\n",
    "def softmax(x):\n",
    "    sm = (np.exp(x.T) / np.sum(np.exp(x))).T\n",
    "    return sm"
   ]
  },
  {
   "cell_type": "markdown",
   "metadata": {},
   "source": [
    "\n"
   ]
  }
 ],
 "metadata": {
  "kernelspec": {
   "display_name": "Python 3",
   "language": "python",
   "name": "python3"
  },
  "language_info": {
   "codemirror_mode": {
    "name": "ipython",
    "version": 2
   },
   "file_extension": ".py",
   "mimetype": "text/x-python",
   "name": "python",
   "nbconvert_exporter": "python",
   "pygments_lexer": "ipython2",
   "version": "2.7.15rc1"
  }
 },
 "nbformat": 4,
 "nbformat_minor": 2
}
